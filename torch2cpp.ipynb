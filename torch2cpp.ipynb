{
 "cells": [
  {
   "cell_type": "code",
   "execution_count": 1,
   "metadata": {},
   "outputs": [],
   "source": [
    "import os\n",
    "import json\n",
    "import numpy as np\n",
    "import torch\n",
    "import torch.nn as nn\n",
    "import torch.optim as optim\n",
    "import torchvision.transforms as transforms\n",
    "from collections import OrderedDict\n"
   ]
  },
  {
   "cell_type": "code",
   "execution_count": 2,
   "metadata": {},
   "outputs": [],
   "source": [
    "HIDDEN_SIZE = 512\n",
    "torch.set_default_tensor_type(torch.DoubleTensor)\n",
    "\n",
    "class MyModule(nn.Module):\n",
    "    def __init__(self, INPUT_SIZE, OUTPUT_SIZE):\n",
    "        super(MyModule, self).__init__()\n",
    "        self.fc = nn.Sequential(OrderedDict([\n",
    "                ('fc1', nn.Linear(INPUT_SIZE, HIDDEN_SIZE)),\n",
    "                ('relu', nn.ReLU()),\n",
    "                ('dropout', nn.Dropout(p = 0.2)),\n",
    "                ('fc2', nn.Linear(HIDDEN_SIZE, OUTPUT_SIZE))\n",
    "            ]))\n",
    "        \n",
    "    def forward(self, x, m):\n",
    "        return nn.LogSoftmax(dim = -1)(self.fc(x) * m)\n",
    "    "
   ]
  },
  {
   "cell_type": "code",
   "execution_count": 8,
   "metadata": {},
   "outputs": [
    {
     "name": "stdout",
     "output_type": "stream",
     "text": [
      "torch.Size([512, 607])\n",
      "torch.Size([512])\n",
      "torch.Size([379, 512])\n",
      "torch.Size([379])\n"
     ]
    }
   ],
   "source": [
    "model_name = [\"./model/best_model_for_0mainbody.pt\",\n",
    "              \"./model/best_model_for_1mainbody.pt\",\n",
    "              \"./model/best_model_for_2mainbody.pt\",\n",
    "              \"./model/best_model_for_0bywings.pt\",\n",
    "              \"./model/best_model_for_1bywings.pt\"\n",
    "             ]\n",
    "os.listdir(\"./model\")\n",
    "model = torch.load(model_name[0])\n",
    "para_list = list(model.parameters())\n",
    "\n",
    "for i in range(4):\n",
    "    print(para_list[i].shape)"
   ]
  },
  {
   "cell_type": "code",
   "execution_count": null,
   "metadata": {},
   "outputs": [],
   "source": []
  }
 ],
 "metadata": {
  "kernelspec": {
   "display_name": "Python 3",
   "language": "python",
   "name": "python3"
  },
  "language_info": {
   "codemirror_mode": {
    "name": "ipython",
    "version": 3
   },
   "file_extension": ".py",
   "mimetype": "text/x-python",
   "name": "python",
   "nbconvert_exporter": "python",
   "pygments_lexer": "ipython3",
   "version": "3.8.5"
  }
 },
 "nbformat": 4,
 "nbformat_minor": 4
}
